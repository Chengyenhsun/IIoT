{
  "cells": [
    {
      "cell_type": "markdown",
      "metadata": {
        "id": "7ypHfZtN2_Px"
      },
      "source": [
        "# 工業物聯網 範例code\n",
        "* 請先上傳資料集的壓縮檔\n",
        "* 使用指令進行解壓縮\n",
        "* 完成後會在左邊看到test train valid 三個資料集\n"
      ]
    },
    {
      "cell_type": "code",
      "execution_count": 1,
      "metadata": {
        "colab": {
          "base_uri": "https://localhost:8080/"
        },
        "id": "MbTIzycK2sk5",
        "outputId": "9131f3e5-2931-4e28-da6d-68a5371f417f"
      },
      "outputs": [
        {
          "name": "stdout",
          "output_type": "stream",
          "text": [
            "Archive:  IIOT.v3i.yolov8.zip\n",
            " extracting: README.dataset.txt      \n",
            " extracting: README.roboflow.txt     \n",
            " extracting: data.yaml               \n",
            "   creating: test/\n",
            "   creating: test/images/\n",
            " extracting: test/images/IMG_0993_JPG.rf.9c883e592ef3e7f3f947b96f74d918a5.jpg  \n",
            "   creating: test/labels/\n",
            " extracting: test/labels/IMG_0993_JPG.rf.9c883e592ef3e7f3f947b96f74d918a5.txt  \n",
            "   creating: train/\n",
            "   creating: train/images/\n",
            " extracting: train/images/IMG_0994_JPG.rf.0213a996f9e64cb7d48167a3dad4a894.jpg  \n",
            " extracting: train/images/IMG_0994_JPG.rf.68708211fa7cc241549e0381a5be81b8.jpg  \n",
            " extracting: train/images/IMG_0994_JPG.rf.d459450b428ff2a69beef26faa631436.jpg  \n",
            " extracting: train/images/IMG_0995_JPG.rf.03a0453e587928276f7f1a5b8746c53d.jpg  \n",
            " extracting: train/images/IMG_0995_JPG.rf.49eeaa58272d6e0aaedb40d9177752c3.jpg  \n",
            " extracting: train/images/IMG_0995_JPG.rf.cc37816778ae556aafde7fbfe85fe272.jpg  \n",
            " extracting: train/images/IMG_0997_JPG.rf.9dfa19a3997f75f847b4f8dd09696950.jpg  \n",
            " extracting: train/images/IMG_0997_JPG.rf.b832bbb2ae9d3759d3317e886e7406ce.jpg  \n",
            " extracting: train/images/IMG_0997_JPG.rf.eb649c3bd0ca29ff41895185916d6c1d.jpg  \n",
            "   creating: train/labels/\n",
            " extracting: train/labels/IMG_0994_JPG.rf.0213a996f9e64cb7d48167a3dad4a894.txt  \n",
            " extracting: train/labels/IMG_0994_JPG.rf.68708211fa7cc241549e0381a5be81b8.txt  \n",
            " extracting: train/labels/IMG_0994_JPG.rf.d459450b428ff2a69beef26faa631436.txt  \n",
            " extracting: train/labels/IMG_0995_JPG.rf.03a0453e587928276f7f1a5b8746c53d.txt  \n",
            " extracting: train/labels/IMG_0995_JPG.rf.49eeaa58272d6e0aaedb40d9177752c3.txt  \n",
            " extracting: train/labels/IMG_0995_JPG.rf.cc37816778ae556aafde7fbfe85fe272.txt  \n",
            " extracting: train/labels/IMG_0997_JPG.rf.9dfa19a3997f75f847b4f8dd09696950.txt  \n",
            " extracting: train/labels/IMG_0997_JPG.rf.b832bbb2ae9d3759d3317e886e7406ce.txt  \n",
            " extracting: train/labels/IMG_0997_JPG.rf.eb649c3bd0ca29ff41895185916d6c1d.txt  \n",
            "   creating: valid/\n",
            "   creating: valid/images/\n",
            " extracting: valid/images/IMG_0996_JPG.rf.267ae5f85b2b69a06726cf7534fa9160.jpg  \n",
            "   creating: valid/labels/\n",
            " extracting: valid/labels/IMG_0996_JPG.rf.267ae5f85b2b69a06726cf7534fa9160.txt  \n"
          ]
        }
      ],
      "source": [
        "FILEPATH = \"IIOT.v3i.yolov8.zip\"\n",
        "!unzip \"IIOT.v3i.yolov8.zip\""
      ]
    },
    {
      "cell_type": "markdown",
      "metadata": {
        "id": "LdefkfLU3hd-"
      },
      "source": [
        "* 安裝 yolov8 套件\n",
        "* 引入套件後確認版本資訊\n"
      ]
    },
    {
      "cell_type": "code",
      "execution_count": 2,
      "metadata": {
        "colab": {
          "base_uri": "https://localhost:8080/"
        },
        "id": "c3L-Uv6R3jWD",
        "outputId": "e90e455d-c845-497e-cc35-cb6f1894cd71"
      },
      "outputs": [
        {
          "name": "stdout",
          "output_type": "stream",
          "text": [
            "Ultralytics YOLOv8.2.2 🚀 Python-3.11.2 torch-2.2.2 CPU (Cortex-A72)\n",
            "Setup complete ✅ (4 CPUs, 3.7 GB RAM, 10.1/58.2 GB disk)\n"
          ]
        }
      ],
      "source": [
        "!pip install ultralytics\n",
        "import ultralytics\n",
        "ultralytics.checks()"
      ]
    },
    {
      "cell_type": "markdown",
      "metadata": {
        "id": "X9BONcdL4dSl"
      },
      "source": [
        "* 開始訓練模型\n",
        "* 先選擇官方提供的模型，這邊選yolov8n 是最小的模型，適合運行在rpi上面\n",
        "* 然後下model.train的指令，data後面要接上yaml檔的路徑，該黨案內會有所有圖片的資訊，epoches可以自行調整"
      ]
    },
    {
      "cell_type": "code",
      "execution_count": 3,
      "metadata": {
        "colab": {
          "base_uri": "https://localhost:8080/"
        },
        "id": "BhhYnVRS3c25",
        "outputId": "fafb27f3-fdfb-4cdf-8db9-8e7d71a5d339"
      },
      "outputs": [
        {
          "name": "stdout",
          "output_type": "stream",
          "text": [
            "New https://pypi.org/project/ultralytics/8.2.20 available 😃 Update with 'pip install -U ultralytics'\n",
            "Ultralytics YOLOv8.2.2 🚀 Python-3.11.2 torch-2.2.2 CPU (Cortex-A72)\n",
            "\u001b[34m\u001b[1mengine/trainer: \u001b[0mtask=detect, mode=train, model=yolov8n.pt, data=data.yaml, epochs=1000, time=None, patience=100, batch=16, imgsz=640, save=True, save_period=-1, cache=False, device=None, workers=8, project=None, name=train3, exist_ok=False, pretrained=True, optimizer=auto, verbose=True, seed=0, deterministic=True, single_cls=False, rect=False, cos_lr=False, close_mosaic=10, resume=False, amp=True, fraction=1.0, profile=False, freeze=None, multi_scale=False, overlap_mask=True, mask_ratio=4, dropout=0.0, val=True, split=val, save_json=False, save_hybrid=False, conf=None, iou=0.7, max_det=300, half=False, dnn=False, plots=True, source=None, vid_stride=1, stream_buffer=False, visualize=False, augment=False, agnostic_nms=False, classes=None, retina_masks=False, embed=None, show=False, save_frames=False, save_txt=False, save_conf=False, save_crop=False, show_labels=True, show_conf=True, show_boxes=True, line_width=None, format=torchscript, keras=False, optimize=False, int8=False, dynamic=False, simplify=False, opset=None, workspace=4, nms=False, lr0=0.01, lrf=0.01, momentum=0.937, weight_decay=0.0005, warmup_epochs=3.0, warmup_momentum=0.8, warmup_bias_lr=0.1, box=7.5, cls=0.5, dfl=1.5, pose=12.0, kobj=1.0, label_smoothing=0.0, nbs=64, hsv_h=0.015, hsv_s=0.7, hsv_v=0.4, degrees=0.0, translate=0.1, scale=0.5, shear=0.0, perspective=0.0, flipud=0.0, fliplr=0.5, bgr=0.0, mosaic=1.0, mixup=0.0, copy_paste=0.0, auto_augment=randaugment, erasing=0.4, crop_fraction=1.0, cfg=None, tracker=botsort.yaml, save_dir=runs/detect/train3\n",
            "Downloading https://ultralytics.com/assets/Arial.ttf to '/home/F14106155/.config/Ultralytics/Arial.ttf'...\n"
          ]
        },
        {
          "name": "stderr",
          "output_type": "stream",
          "text": [
            "100%|██████████| 755k/755k [00:00<00:00, 1.13MB/s]"
          ]
        },
        {
          "name": "stdout",
          "output_type": "stream",
          "text": [
            "Overriding model.yaml nc=80 with nc=1\n",
            "\n",
            "                   from  n    params  module                                       arguments                     \n",
            "  0                  -1  1       464  ultralytics.nn.modules.conv.Conv             [3, 16, 3, 2]                 \n",
            "  1                  -1  1      4672  ultralytics.nn.modules.conv.Conv             [16, 32, 3, 2]                \n",
            "  2                  -1  1      7360  ultralytics.nn.modules.block.C2f             [32, 32, 1, True]             \n"
          ]
        },
        {
          "name": "stderr",
          "output_type": "stream",
          "text": [
            "\n"
          ]
        },
        {
          "name": "stdout",
          "output_type": "stream",
          "text": [
            "  3                  -1  1     18560  ultralytics.nn.modules.conv.Conv             [32, 64, 3, 2]                \n",
            "  4                  -1  2     49664  ultralytics.nn.modules.block.C2f             [64, 64, 2, True]             \n",
            "  5                  -1  1     73984  ultralytics.nn.modules.conv.Conv             [64, 128, 3, 2]               \n",
            "  6                  -1  2    197632  ultralytics.nn.modules.block.C2f             [128, 128, 2, True]           \n",
            "  7                  -1  1    295424  ultralytics.nn.modules.conv.Conv             [128, 256, 3, 2]              \n",
            "  8                  -1  1    460288  ultralytics.nn.modules.block.C2f             [256, 256, 1, True]           \n",
            "  9                  -1  1    164608  ultralytics.nn.modules.block.SPPF            [256, 256, 5]                 \n",
            " 10                  -1  1         0  torch.nn.modules.upsampling.Upsample         [None, 2, 'nearest']          \n",
            " 11             [-1, 6]  1         0  ultralytics.nn.modules.conv.Concat           [1]                           \n",
            " 12                  -1  1    148224  ultralytics.nn.modules.block.C2f             [384, 128, 1]                 \n",
            " 13                  -1  1         0  torch.nn.modules.upsampling.Upsample         [None, 2, 'nearest']          \n",
            " 14             [-1, 4]  1         0  ultralytics.nn.modules.conv.Concat           [1]                           \n",
            " 15                  -1  1     37248  ultralytics.nn.modules.block.C2f             [192, 64, 1]                  \n",
            " 16                  -1  1     36992  ultralytics.nn.modules.conv.Conv             [64, 64, 3, 2]                \n",
            " 17            [-1, 12]  1         0  ultralytics.nn.modules.conv.Concat           [1]                           \n",
            " 18                  -1  1    123648  ultralytics.nn.modules.block.C2f             [192, 128, 1]                 \n",
            " 19                  -1  1    147712  ultralytics.nn.modules.conv.Conv             [128, 128, 3, 2]              \n",
            " 20             [-1, 9]  1         0  ultralytics.nn.modules.conv.Concat           [1]                           \n",
            " 21                  -1  1    493056  ultralytics.nn.modules.block.C2f             [384, 256, 1]                 \n",
            " 22        [15, 18, 21]  1    751507  ultralytics.nn.modules.head.Detect           [1, [64, 128, 256]]           \n",
            "Model summary: 225 layers, 3011043 parameters, 3011027 gradients, 8.2 GFLOPs\n",
            "\n",
            "Transferred 319/355 items from pretrained weights\n",
            "Freezing layer 'model.22.dfl.conv.weight'\n"
          ]
        },
        {
          "name": "stderr",
          "output_type": "stream",
          "text": [
            "\u001b[34m\u001b[1mtrain: \u001b[0mScanning /home/F14106155/Desktop/IIoT/datasets/train/labels... 9 images, 0 backgrounds, 0 corrupt: 100%|██████████| 9/9 [00:00<00:00, 400.97it/s]"
          ]
        },
        {
          "name": "stdout",
          "output_type": "stream",
          "text": [
            "\u001b[34m\u001b[1mtrain: \u001b[0mNew cache created: /home/F14106155/Desktop/IIoT/datasets/train/labels.cache\n"
          ]
        },
        {
          "name": "stderr",
          "output_type": "stream",
          "text": [
            "\n",
            "\u001b[34m\u001b[1mval: \u001b[0mScanning /home/F14106155/Desktop/IIoT/datasets/valid/labels... 1 images, 0 backgrounds, 0 corrupt: 100%|██████████| 1/1 [00:00<00:00, 235.52it/s]"
          ]
        },
        {
          "name": "stdout",
          "output_type": "stream",
          "text": [
            "\u001b[34m\u001b[1mval: \u001b[0mNew cache created: /home/F14106155/Desktop/IIoT/datasets/valid/labels.cache\n"
          ]
        },
        {
          "name": "stderr",
          "output_type": "stream",
          "text": [
            "\n"
          ]
        },
        {
          "name": "stdout",
          "output_type": "stream",
          "text": [
            "Plotting labels to runs/detect/train3/labels.jpg... \n",
            "\u001b[34m\u001b[1moptimizer:\u001b[0m 'optimizer=auto' found, ignoring 'lr0=0.01' and 'momentum=0.937' and determining best 'optimizer', 'lr0' and 'momentum' automatically... \n",
            "\u001b[34m\u001b[1moptimizer:\u001b[0m AdamW(lr=0.002, momentum=0.9) with parameter groups 57 weight(decay=0.0), 64 weight(decay=0.0005), 63 bias(decay=0.0)\n",
            "Image sizes 640 train, 640 val\n",
            "Using 0 dataloader workers\n",
            "Logging results to \u001b[1mruns/detect/train3\u001b[0m\n",
            "Starting training for 1000 epochs...\n",
            "\n",
            "      Epoch    GPU_mem   box_loss   cls_loss   dfl_loss  Instances       Size\n"
          ]
        },
        {
          "name": "stderr",
          "output_type": "stream",
          "text": [
            "     1/1000         0G      2.446      5.055      1.662         10        640: 100%|██████████| 1/1 [00:33<00:00, 33.18s/it]\n",
            "                 Class     Images  Instances      Box(P          R      mAP50  mAP50-95): 100%|██████████| 1/1 [00:04<00:00,  4.63s/it]"
          ]
        },
        {
          "name": "stdout",
          "output_type": "stream",
          "text": [
            "                   all          1          1          0          0          0          0\n"
          ]
        },
        {
          "name": "stderr",
          "output_type": "stream",
          "text": [
            "\n"
          ]
        },
        {
          "name": "stdout",
          "output_type": "stream",
          "text": [
            "\n",
            "      Epoch    GPU_mem   box_loss   cls_loss   dfl_loss  Instances       Size\n"
          ]
        },
        {
          "name": "stderr",
          "output_type": "stream",
          "text": [
            "  0%|          | 0/1 [00:00<?, ?it/s]"
          ]
        }
      ],
      "source": [
        "from ultralytics import YOLO\n",
        "\n",
        "# Load a model\n",
        "model = YOLO(\"yolov8n.pt\")  # load an official model\n",
        "results = model.train(data=\"data.yaml\", epochs=1000)"
      ]
    },
    {
      "cell_type": "markdown",
      "metadata": {
        "id": "ORLSLcac6lYc"
      },
      "source": [
        "* 完成後可以把runs/detect/train 整個資料夾下載下來，內部就是訓練的相關資訊\n",
        "* 模型在weights 資料夾裡面，也可以只下載best.pt檔案就好，然後就可以放到rpi上面用了\n"
      ]
    }
  ],
  "metadata": {
    "accelerator": "GPU",
    "colab": {
      "gpuType": "T4",
      "provenance": []
    },
    "kernelspec": {
      "display_name": "Python 3",
      "name": "python3"
    },
    "language_info": {
      "codemirror_mode": {
        "name": "ipython",
        "version": 3
      },
      "file_extension": ".py",
      "mimetype": "text/x-python",
      "name": "python",
      "nbconvert_exporter": "python",
      "pygments_lexer": "ipython3",
      "version": "3.11.2"
    }
  },
  "nbformat": 4,
  "nbformat_minor": 0
}
